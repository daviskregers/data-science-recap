{
 "cells": [
  {
   "cell_type": "markdown",
   "metadata": {},
   "source": [
    "# Mean, Median, Mode and introduction to numpy\n",
    "\n",
    "Notes here: https://github.com/daviskregers/notes/blob/master/data-science/02-statistics-and-probability-refresher/02-mean-median-mode.md"
   ]
  },
  {
   "cell_type": "markdown",
   "metadata": {},
   "source": [
    "## Mean vs Median\n",
    "\n",
    "We can create some fake income data that is centered around 27,000 with normal distribution and standard deviation of 15,000. With 10,000 data points.\n",
    "\n",
    "Then we are going to compute the mean (average) - it should be close to 27,000."
   ]
  },
  {
   "cell_type": "code",
   "execution_count": 1,
   "metadata": {},
   "outputs": [
    {
     "data": {
      "text/plain": [
       "27043.339488896137"
      ]
     },
     "execution_count": 1,
     "metadata": {},
     "output_type": "execute_result"
    }
   ],
   "source": [
    "import numpy as np\n",
    "\n",
    "incomes = np.random.normal(27000, 15000, 10000)\n",
    "np.mean(incomes)"
   ]
  },
  {
   "cell_type": "markdown",
   "metadata": {},
   "source": [
    "We can segment the income data into 50 buckets and plot a histogram."
   ]
  },
  {
   "cell_type": "code",
   "execution_count": 3,
   "metadata": {},
   "outputs": [
    {
     "data": {
      "image/png": "[encoded data removed]",
      "text/plain": [
       "<Figure size 432x288 with 1 Axes>"
      ]
     },
     "metadata": {
      "needs_background": "light"
     },
     "output_type": "display_data"
    }
   ],
   "source": [
    "%matplotlib inline\n",
    "import matplotlib.pyplot as plt\n",
    "plt.hist(incomes, 50)\n",
    "plt.show()"
   ]
  },
  {
   "cell_type": "markdown",
   "metadata": {},
   "source": [
    "Now compute the median - since we have a nice, even distribution, it too should be close to 27000."
   ]
  },
  {
   "cell_type": "code",
   "execution_count": 5,
   "metadata": {},
   "outputs": [
    {
     "data": {
      "text/plain": [
       "27160.078655120444"
      ]
     },
     "execution_count": 5,
     "metadata": {},
     "output_type": "execute_result"
    }
   ],
   "source": [
    "np.median(incomes)"
   ]
  },
  {
   "cell_type": "markdown",
   "metadata": {},
   "source": [
    "Now we are going to add Jeff Bezos into the mix."
   ]
  },
  {
   "cell_type": "code",
   "execution_count": 6,
   "metadata": {},
   "outputs": [],
   "source": [
    "incomes = np.append(incomes, [1000000000])"
   ]
  },
  {
   "cell_type": "markdown",
   "metadata": {},
   "source": [
    "The median won't change much, but the mean will."
   ]
  },
  {
   "cell_type": "code",
   "execution_count": 7,
   "metadata": {},
   "outputs": [
    {
     "data": {
      "text/plain": [
       "27161.350529235675"
      ]
     },
     "execution_count": 7,
     "metadata": {},
     "output_type": "execute_result"
    }
   ],
   "source": [
    "np.median(incomes)"
   ]
  },
  {
   "cell_type": "code",
   "execution_count": 8,
   "metadata": {},
   "outputs": [
    {
     "data": {
      "text/plain": [
       "127030.63642525363"
      ]
     },
     "execution_count": 8,
     "metadata": {},
     "output_type": "execute_result"
    }
   ],
   "source": [
    "np.mean(incomes)"
   ]
  },
  {
   "cell_type": "markdown",
   "metadata": {},
   "source": [
    "# Mode\n",
    "\n",
    "Next let's generate some fake age data for 500 people."
   ]
  },
  {
   "cell_type": "code",
   "execution_count": 10,
   "metadata": {},
   "outputs": [
    {
     "data": {
      "text/plain": [
       "array([79, 33, 52, 44, 43, 39, 88, 37, 44, 28, 19, 51, 52, 72, 44, 57, 52,\n",
       "       83, 56, 35, 32, 31, 70, 80, 36, 66, 45, 83, 59, 19, 52, 74, 58, 21,\n",
       "       56, 83, 32, 80, 47, 34, 43, 82, 83, 87, 18, 25, 76, 30, 74, 36, 43,\n",
       "       39, 18, 41, 89, 75, 50, 33, 42, 22, 60, 65, 38, 25, 86, 20, 32, 42,\n",
       "       79, 18, 89, 47, 39, 36, 59, 84, 20, 49, 32, 74, 35, 21, 74, 54, 33,\n",
       "       55, 19, 23, 29, 19, 30, 84, 76, 88, 44, 56, 75, 22, 56, 61, 67, 80,\n",
       "       45, 64, 45, 47, 29, 53, 83, 19, 52, 58, 37, 63, 19, 54, 88, 51, 23,\n",
       "       44, 38, 76, 63, 64, 44, 60, 55, 76, 18, 80, 64, 81, 33, 41, 84, 43,\n",
       "       39, 37, 51, 67, 59, 51, 19, 60, 24, 63, 35, 53, 36, 76, 37, 40, 56,\n",
       "       80, 36, 62, 64, 84, 57, 34, 70, 62, 19, 46, 37, 30, 46, 40, 77, 44,\n",
       "       19, 48, 83, 38, 29, 29, 50, 63, 71, 84, 61, 75, 35, 25, 72, 58, 73,\n",
       "       77, 88, 36, 74, 64, 28, 78, 50, 26, 86, 24, 31, 67, 48, 26, 61, 68,\n",
       "       70, 23, 27, 82, 46, 22, 80, 84, 33, 69, 19, 69, 83, 52, 45, 73, 59,\n",
       "       52, 60, 35, 46, 57, 29, 78, 74, 26, 32, 73, 50, 61, 69, 70, 74, 79,\n",
       "       40, 36, 42, 50, 82, 31, 48, 31, 42, 61, 84, 65, 25, 68, 51, 54, 67,\n",
       "       79, 61, 58, 70, 65, 61, 88, 47, 80, 57, 56, 22, 55, 89, 50, 85, 40,\n",
       "       24, 72, 28, 65, 28, 51, 68, 27, 23, 30, 38, 37, 89, 29, 70, 21, 31,\n",
       "       31, 25, 76, 88, 76, 72, 71, 22, 45, 75, 19, 32, 33, 70, 36, 60, 46,\n",
       "       57, 79, 28, 40, 81, 21, 45, 32, 18, 80, 69, 78, 79, 23, 54, 68, 58,\n",
       "       24, 31, 77, 27, 89, 69, 68, 59, 29, 40, 46, 78, 70, 49, 58, 31, 82,\n",
       "       55, 54, 30, 43, 56, 33, 88, 52, 20, 44, 35, 80, 36, 83, 73, 21, 22,\n",
       "       31, 77, 56, 81, 50, 41, 18, 49, 44, 23, 73, 74, 73, 20, 86, 39, 80,\n",
       "       52, 30, 45, 39, 65, 86, 87, 74, 29, 68, 24, 21, 23, 52, 22, 30, 68,\n",
       "       41, 51, 21, 66, 54, 77, 64, 37, 22, 34, 64, 21, 89, 82, 82, 20, 82,\n",
       "       80, 87, 66, 85, 28, 61, 88, 32, 53, 50, 53, 55, 59, 32, 57, 20, 58,\n",
       "       64, 63, 86, 36, 34, 33, 86, 46, 34, 67, 59, 63, 76, 34, 72, 68, 23,\n",
       "       72, 67, 61, 73, 86, 77, 81, 70, 82, 20, 43, 22, 84, 63, 74, 60, 54,\n",
       "       62, 75, 44, 80, 52, 67, 38, 85, 79, 36, 82, 37, 84, 49, 18, 29, 31,\n",
       "       35, 76, 56, 84, 67, 50, 80, 55, 29, 23, 71, 76, 68, 50, 51, 76, 43,\n",
       "       87, 59, 34, 51, 48, 61, 55])"
      ]
     },
     "execution_count": 10,
     "metadata": {},
     "output_type": "execute_result"
    }
   ],
   "source": [
    "ages = np.random.randint(18, high=90, size=500)\n",
    "ages"
   ]
  },
  {
   "cell_type": "code",
   "execution_count": 11,
   "metadata": {},
   "outputs": [
    {
     "data": {
      "text/plain": [
       "ModeResult(mode=array([80]), count=array([13]))"
      ]
     },
     "execution_count": 11,
     "metadata": {},
     "output_type": "execute_result"
    }
   ],
   "source": [
    "from scipy import stats\n",
    "stats.mode(ages)"
   ]
  },
  {
   "cell_type": "code",
   "execution_count": null,
   "metadata": {},
   "outputs": [],
   "source": []
  }
 ],
 "metadata": {
  "kernelspec": {
   "display_name": "Python 3",
   "language": "python",
   "name": "python3"
  },
  "language_info": {
   "codemirror_mode": {
    "name": "ipython",
    "version": 3
   },
   "file_extension": ".py",
   "mimetype": "text/x-python",
   "name": "python",
   "nbconvert_exporter": "python",
   "pygments_lexer": "ipython3",
   "version": "3.8.5"
  }
 },
 "nbformat": 4,
 "nbformat_minor": 4
}
