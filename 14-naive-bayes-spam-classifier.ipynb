{
 "cells": [
  {
   "cell_type": "markdown",
   "metadata": {},
   "source": [
    "# Naive Bayes\n",
    "\n",
    "Notes: https://github.com/daviskregers/notes/blob/master/data-science/04-machine-learning-with-python/03-bayesian-methods.md"
   ]
  },
  {
   "cell_type": "code",
   "execution_count": 3,
   "metadata": {},
   "outputs": [],
   "source": [
    "import os\n",
    "import io\n",
    "import numpy\n",
    "from pandas import DataFrame\n",
    "from sklearn.feature_extraction.text import CountVectorizer\n",
    "from sklearn.naive_bayes import MultinomialNB\n",
    "\n",
    "def readFiles(path):\n",
    "    for root, dirnames, filenames in os.walk(path):\n",
    "        for filename in filenames:\n",
    "            path = os.path.join(root, filename)\n",
    "\n",
    "            inBody = False\n",
    "            lines = []\n",
    "            f = io.open(path, 'r', encoding='latin1')\n",
    "            for line in f:\n",
    "                if inBody:\n",
    "                    lines.append(line)\n",
    "                elif line == '\\n':\n",
    "                    inBody = True\n",
    "            f.close()\n",
    "            message = '\\n'.join(lines)\n",
    "            yield path, message\n",
    "\n",
    "\n",
    "def dataFrameFromDirectory(path, classification):\n",
    "    rows = []\n",
    "    index = []\n",
    "    for filename, message in readFiles(path):\n",
    "        rows.append({'message': message, 'class': classification})\n",
    "        index.append(filename)\n",
    "\n",
    "    return DataFrame(rows, index=index)\n",
    "\n",
    "data = DataFrame({'message': [], 'class': []})\n",
    "\n",
    "data = data.append(dataFrameFromDirectory('data/emails/spam', 'spam'))\n",
    "data = data.append(dataFrameFromDirectory('data/emails/ham', 'ham'))\n"
   ]
  },
  {
   "cell_type": "code",
   "execution_count": 4,
   "metadata": {},
   "outputs": [
    {
     "data": {
      "text/html": [
       "<div>\n",
       "<style scoped>\n",
       "    .dataframe tbody tr th:only-of-type {\n",
       "        vertical-align: middle;\n",
       "    }\n",
       "\n",
       "    .dataframe tbody tr th {\n",
       "        vertical-align: top;\n",
       "    }\n",
       "\n",
       "    .dataframe thead th {\n",
       "        text-align: right;\n",
       "    }\n",
       "</style>\n",
       "<table border=\"1\" class=\"dataframe\">\n",
       "  <thead>\n",
       "    <tr style=\"text-align: right;\">\n",
       "      <th></th>\n",
       "      <th>message</th>\n",
       "      <th>class</th>\n",
       "    </tr>\n",
       "  </thead>\n",
       "  <tbody>\n",
       "    <tr>\n",
       "      <th>data/emails/spam/00477.24ef7a042f97482f884387c75249380c</th>\n",
       "      <td>&lt;html&gt;\\n\\n&lt;TABLE id=AutoNumber2 style=\"BORDER-...</td>\n",
       "      <td>spam</td>\n",
       "    </tr>\n",
       "    <tr>\n",
       "      <th>data/emails/spam/00414.b2312673ca5358901c801eb44c00e310</th>\n",
       "      <td>&lt;HTML&gt;\\n\\n&lt;PRE&gt;\\n\\nDear Valued Member,\\n\\n\\n\\n...</td>\n",
       "      <td>spam</td>\n",
       "    </tr>\n",
       "    <tr>\n",
       "      <th>data/emails/spam/00303.22239f1393297a691eb5df3dfe7a5001</th>\n",
       "      <td>------=_NextPart_000_00E4_17A73C2D.E7104E07\\n\\...</td>\n",
       "      <td>spam</td>\n",
       "    </tr>\n",
       "    <tr>\n",
       "      <th>data/emails/spam/00103.2eef38789b4ecce796e7e8dbe718e3d2</th>\n",
       "      <td>Protect your financial well-being.\\n\\nPurchase...</td>\n",
       "      <td>spam</td>\n",
       "    </tr>\n",
       "    <tr>\n",
       "      <th>data/emails/spam/00079.cc3fa7d977a44a09d450dde5db161c37</th>\n",
       "      <td>Dear Sir / Madam\\n\\n\\n\\nIf you are fed up of b...</td>\n",
       "      <td>spam</td>\n",
       "    </tr>\n",
       "  </tbody>\n",
       "</table>\n",
       "</div>"
      ],
      "text/plain": [
       "                                                                                              message  \\\n",
       "data/emails/spam/00477.24ef7a042f97482f884387c7...  <html>\\n\\n<TABLE id=AutoNumber2 style=\"BORDER-...   \n",
       "data/emails/spam/00414.b2312673ca5358901c801eb4...  <HTML>\\n\\n<PRE>\\n\\nDear Valued Member,\\n\\n\\n\\n...   \n",
       "data/emails/spam/00303.22239f1393297a691eb5df3d...  ------=_NextPart_000_00E4_17A73C2D.E7104E07\\n\\...   \n",
       "data/emails/spam/00103.2eef38789b4ecce796e7e8db...  Protect your financial well-being.\\n\\nPurchase...   \n",
       "data/emails/spam/00079.cc3fa7d977a44a09d450dde5...  Dear Sir / Madam\\n\\n\\n\\nIf you are fed up of b...   \n",
       "\n",
       "                                                   class  \n",
       "data/emails/spam/00477.24ef7a042f97482f884387c7...  spam  \n",
       "data/emails/spam/00414.b2312673ca5358901c801eb4...  spam  \n",
       "data/emails/spam/00303.22239f1393297a691eb5df3d...  spam  \n",
       "data/emails/spam/00103.2eef38789b4ecce796e7e8db...  spam  \n",
       "data/emails/spam/00079.cc3fa7d977a44a09d450dde5...  spam  "
      ]
     },
     "execution_count": 4,
     "metadata": {},
     "output_type": "execute_result"
    }
   ],
   "source": [
    "data.head()"
   ]
  },
  {
   "cell_type": "markdown",
   "metadata": {},
   "source": [
    "Now we can use CountVecotorizer to split up each message into word lists and use the MultinomialNB classifier."
   ]
  },
  {
   "cell_type": "code",
   "execution_count": 5,
   "metadata": {},
   "outputs": [
    {
     "data": {
      "text/plain": [
       "MultinomialNB()"
      ]
     },
     "execution_count": 5,
     "metadata": {},
     "output_type": "execute_result"
    }
   ],
   "source": [
    "vectorizer = CountVectorizer()\n",
    "counts = vectorizer.fit_transform(data['message'].values)\n",
    "\n",
    "classifier = MultinomialNB()\n",
    "targets = data['class'].values\n",
    "classifier.fit(counts, targets)"
   ]
  },
  {
   "cell_type": "code",
   "execution_count": 6,
   "metadata": {},
   "outputs": [
    {
     "data": {
      "text/plain": [
       "array(['spam', 'ham'], dtype='<U4')"
      ]
     },
     "execution_count": 6,
     "metadata": {},
     "output_type": "execute_result"
    }
   ],
   "source": [
    "examples = ['Free Viagra now!!!', \"Hi Bob, how about a game of golf tomorrow?\"]\n",
    "example_counts = vectorizer.transform(examples)\n",
    "predictions = classifier.predict(example_counts)\n",
    "predictions"
   ]
  },
  {
   "cell_type": "code",
   "execution_count": null,
   "metadata": {},
   "outputs": [],
   "source": []
  },
  {
   "cell_type": "code",
   "execution_count": null,
   "metadata": {},
   "outputs": [],
   "source": []
  }
 ],
 "metadata": {
  "kernelspec": {
   "display_name": "Python 3",
   "language": "python",
   "name": "python3"
  },
  "language_info": {
   "codemirror_mode": {
    "name": "ipython",
    "version": 3
   },
   "file_extension": ".py",
   "mimetype": "text/x-python",
   "name": "python",
   "nbconvert_exporter": "python",
   "pygments_lexer": "ipython3",
   "version": "3.8.5"
  }
 },
 "nbformat": 4,
 "nbformat_minor": 4
}
