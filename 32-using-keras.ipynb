{
 "cells": [
  {
   "cell_type": "markdown",
   "metadata": {},
   "source": [
    "# Using Keras\n",
    "\n",
    "Notes: https://github.com/daviskregers/notes/blob/master/data-science/10-deep-learning-and-neural-networks/06-using-keras.md\n",
    "\n",
    "---\n",
    "Keras is a higher-level API within tesorflow that makes things a lot easier.\n",
    "\n",
    "We'll set up the same deep neural network to learn from MNIST dataset, but with keras."
   ]
  },
  {
   "cell_type": "code",
   "execution_count": 2,
   "metadata": {},
   "outputs": [],
   "source": [
    "from tensorflow import keras\n",
    "from tensorflow.keras.datasets import mnist\n",
    "from tensorflow.keras.models import Sequential\n",
    "from tensorflow.keras.layers import Dense, Dropout\n",
    "from tensorflow.keras.optimizers import RMSprop"
   ]
  },
  {
   "cell_type": "code",
   "execution_count": 3,
   "metadata": {},
   "outputs": [],
   "source": [
    "(mnist_train_images, mnist_train_labels), (mnist_test_images, mnist_test_labels) = mnist.load_data()"
   ]
  },
  {
   "cell_type": "markdown",
   "metadata": {},
   "source": [
    "We need to explicitly convert the data into the format Keras / Tensorflow expects. We divide the image data by 255 in order to normalize it into 0-1 range, after converting it into floating point values."
   ]
  },
  {
   "cell_type": "code",
   "execution_count": 4,
   "metadata": {},
   "outputs": [],
   "source": [
    "train_images = mnist_train_images.reshape(60000, 784)\n",
    "test_images = mnist_test_images.reshape(10000, 784)\n",
    "train_images = train_images.astype('float32')\n",
    "test_images = test_images.astype('float32')\n",
    "train_images /= 255\n",
    "test_images /= 255"
   ]
  },
  {
   "cell_type": "markdown",
   "metadata": {},
   "source": [
    "Now we'll convert the 0-9 labels into \"one-hot\" format.\n",
    "\n",
    "So the training label data is a tensor of shape (60 000, 10)."
   ]
  },
  {
   "cell_type": "code",
   "execution_count": 5,
   "metadata": {},
   "outputs": [],
   "source": [
    "train_labels = keras.utils.to_categorical(mnist_train_labels, 10)\n",
    "test_labels = keras.utils.to_categorical(mnist_test_labels, 10)"
   ]
  },
  {
   "cell_type": "markdown",
   "metadata": {},
   "source": [
    "Let's take a peek at one of the training images just to make sure it looks OK."
   ]
  },
  {
   "cell_type": "code",
   "execution_count": 6,
   "metadata": {},
   "outputs": [
    {
     "name": "stdout",
     "output_type": "stream",
     "text": [
      "[0. 0. 0. 1. 0. 0. 0. 0. 0. 0.]\n"
     ]
    },
    {
     "data": {
      "image/png": "[encoded data removed]",
      "text/plain": [
       "<Figure size 432x288 with 1 Axes>"
      ]
     },
     "metadata": {
      "needs_background": "light"
     },
     "output_type": "display_data"
    }
   ],
   "source": [
    "import matplotlib.pyplot as plt\n",
    "\n",
    "def display_sample(num):\n",
    "    #Print the one-hot array of this sample's label \n",
    "    print(train_labels[num])  \n",
    "    #Print the label converted back to a number\n",
    "    label = train_labels[num].argmax(axis=0)\n",
    "    #Reshape the 768 values to a 28x28 image\n",
    "    image = train_images[num].reshape([28,28])\n",
    "    plt.title('Sample: %d  Label: %d' % (num, label))\n",
    "    plt.imshow(image, cmap=plt.get_cmap('gray_r'))\n",
    "    plt.show()\n",
    "    \n",
    "display_sample(1234)"
   ]
  },
  {
   "cell_type": "markdown",
   "metadata": {},
   "source": [
    "All the code we wrote in tensorflow creating placeholders, variables and defining a bunch of linear algebra for each layer in our neural network - none of that is necessary with keras.\n",
    "\n",
    "We can set up the same layers like this. The input layer of 784 features nfeeds into a ReLU layer of 512 nodes, which then goes into 10 nodes with softmax applied."
   ]
  },
  {
   "cell_type": "code",
   "execution_count": 7,
   "metadata": {},
   "outputs": [],
   "source": [
    "model = Sequential()\n",
    "model.add(Dense(512, activation='relu', input_shape=(784,)))\n",
    "model.add(Dense(10, activation='softmax'))"
   ]
  },
  {
   "cell_type": "markdown",
   "metadata": {},
   "source": [
    "We can get a nice description of the resulting mode."
   ]
  },
  {
   "cell_type": "code",
   "execution_count": 8,
   "metadata": {},
   "outputs": [
    {
     "name": "stdout",
     "output_type": "stream",
     "text": [
      "Model: \"sequential\"\n",
      "_________________________________________________________________\n",
      "Layer (type)                 Output Shape              Param #   \n",
      "=================================================================\n",
      "dense (Dense)                (None, 512)               401920    \n",
      "_________________________________________________________________\n",
      "dense_1 (Dense)              (None, 10)                5130      \n",
      "=================================================================\n",
      "Total params: 407,050\n",
      "Trainable params: 407,050\n",
      "Non-trainable params: 0\n",
      "_________________________________________________________________\n"
     ]
    }
   ],
   "source": [
    "model.summary()"
   ]
  },
  {
   "cell_type": "markdown",
   "metadata": {},
   "source": [
    "Setting up our optimizer and loss function is just as simple. We will use the RMSProp optimizer here. Other choices include Adagrad, SGD, Adam, Adamax, and Nadam. See https://keras.io/optimizers/"
   ]
  },
  {
   "cell_type": "code",
   "execution_count": 10,
   "metadata": {},
   "outputs": [],
   "source": [
    "model.compile(loss='categorical_crossentropy',\n",
    "              optimizer=RMSprop(),\n",
    "              metrics=['accuracy'])"
   ]
  },
  {
   "cell_type": "markdown",
   "metadata": {},
   "source": [
    "Training our model is also just one line of code with keras. Here we'll do 10 epochs with a batch of size 100. Keras is slower, and if we're not running on top of a GPU-accelerated tensorflow this can take a fair amount of time."
   ]
  },
  {
   "cell_type": "code",
   "execution_count": 11,
   "metadata": {},
   "outputs": [
    {
     "name": "stdout",
     "output_type": "stream",
     "text": [
      "Epoch 1/10\n",
      "600/600 - 1s - loss: 0.2428 - accuracy: 0.9291 - val_loss: 0.1200 - val_accuracy: 0.9620\n",
      "Epoch 2/10\n",
      "600/600 - 1s - loss: 0.0976 - accuracy: 0.9710 - val_loss: 0.0843 - val_accuracy: 0.9742\n",
      "Epoch 3/10\n",
      "600/600 - 1s - loss: 0.0651 - accuracy: 0.9802 - val_loss: 0.0721 - val_accuracy: 0.9777\n",
      "Epoch 4/10\n",
      "600/600 - 1s - loss: 0.0478 - accuracy: 0.9855 - val_loss: 0.0707 - val_accuracy: 0.9783\n",
      "Epoch 5/10\n",
      "600/600 - 1s - loss: 0.0355 - accuracy: 0.9892 - val_loss: 0.0696 - val_accuracy: 0.9805\n",
      "Epoch 6/10\n",
      "600/600 - 1s - loss: 0.0277 - accuracy: 0.9919 - val_loss: 0.0706 - val_accuracy: 0.9800\n",
      "Epoch 7/10\n",
      "600/600 - 1s - loss: 0.0218 - accuracy: 0.9935 - val_loss: 0.0757 - val_accuracy: 0.9791\n",
      "Epoch 8/10\n",
      "600/600 - 1s - loss: 0.0164 - accuracy: 0.9954 - val_loss: 0.0690 - val_accuracy: 0.9814\n",
      "Epoch 9/10\n",
      "600/600 - 1s - loss: 0.0127 - accuracy: 0.9962 - val_loss: 0.0748 - val_accuracy: 0.9800\n",
      "Epoch 10/10\n",
      "600/600 - 1s - loss: 0.0100 - accuracy: 0.9974 - val_loss: 0.0687 - val_accuracy: 0.9836\n"
     ]
    }
   ],
   "source": [
    "history = model.fit(train_images, train_labels,\n",
    "                    batch_size=100,\n",
    "                    epochs=10,\n",
    "                    verbose=2,\n",
    "                    validation_data=(test_images, test_labels))"
   ]
  },
  {
   "cell_type": "markdown",
   "metadata": {},
   "source": [
    "But, event with just 10 epochs, we've outperformed our tensorflow version considerably."
   ]
  },
  {
   "cell_type": "code",
   "execution_count": 12,
   "metadata": {},
   "outputs": [
    {
     "name": "stdout",
     "output_type": "stream",
     "text": [
      "Test loss: 0.06866224110126495\n",
      "Test accuracy: 0.9836000204086304\n"
     ]
    }
   ],
   "source": [
    "score = model.evaluate(test_images, test_labels, verbose=0)\n",
    "print('Test loss:', score[0])\n",
    "print('Test accuracy:', score[1])"
   ]
  },
  {
   "cell_type": "markdown",
   "metadata": {},
   "source": [
    "As before let's visualize the ones it got wrong. As this model is much better, we'll have to search deeper to find mistakes to look at."
   ]
  },
  {
   "cell_type": "code",
   "execution_count": 13,
   "metadata": {},
   "outputs": [
    {
     "data": {
      "image/png": "[encoded data removed]",
      "text/plain": [
       "<Figure size 432x288 with 1 Axes>"
      ]
     },
     "metadata": {
      "needs_background": "light"
     },
     "output_type": "display_data"
    },
    {
     "data": {
      "image/png": "[encoded data removed]",
      "text/plain": [
       "<Figure size 432x288 with 1 Axes>"
      ]
     },
     "metadata": {
      "needs_background": "light"
     },
     "output_type": "display_data"
    },
    {
     "data": {
      "image/png": "[encoded data removed]",
      "text/plain": [
       "<Figure size 432x288 with 1 Axes>"
      ]
     },
     "metadata": {
      "needs_background": "light"
     },
     "output_type": "display_data"
    },
    {
     "data": {
      "image/png": "[encoded data removed]",
      "text/plain": [
       "<Figure size 432x288 with 1 Axes>"
      ]
     },
     "metadata": {
      "needs_background": "light"
     },
     "output_type": "display_data"
    },
    {
     "data": {
      "image/png": "[encoded data removed]",
      "text/plain": [
       "<Figure size 432x288 with 1 Axes>"
      ]
     },
     "metadata": {
      "needs_background": "light"
     },
     "output_type": "display_data"
    },
    {
     "data": {
      "image/png": "[encoded data removed]",
      "text/plain": [
       "<Figure size 432x288 with 1 Axes>"
      ]
     },
     "metadata": {
      "needs_background": "light"
     },
     "output_type": "display_data"
    },
    {
     "data": {
      "image/png": "[encoded data removed]",
      "text/plain": [
       "<Figure size 432x288 with 1 Axes>"
      ]
     },
     "metadata": {
      "needs_background": "light"
     },
     "output_type": "display_data"
    },
    {
     "data": {
      "image/png": "[encoded data removed]",
      "text/plain": [
       "<Figure size 432x288 with 1 Axes>"
      ]
     },
     "metadata": {
      "needs_background": "light"
     },
     "output_type": "display_data"
    },
    {
     "data": {
      "image/png": "[encoded data removed]",
      "text/plain": [
       "<Figure size 432x288 with 1 Axes>"
      ]
     },
     "metadata": {
      "needs_background": "light"
     },
     "output_type": "display_data"
    },
    {
     "data": {
      "image/png": "[encoded data removed]",
      "text/plain": [
       "<Figure size 432x288 with 1 Axes>"
      ]
     },
     "metadata": {
      "needs_background": "light"
     },
     "output_type": "display_data"
    },
    {
     "data": {
      "image/png": "[encoded data removed]",
      "text/plain": [
       "<Figure size 432x288 with 1 Axes>"
      ]
     },
     "metadata": {
      "needs_background": "light"
     },
     "output_type": "display_data"
    },
    {
     "data": {
      "image/png": "[encoded data removed]",
      "text/plain": [
       "<Figure size 432x288 with 1 Axes>"
      ]
     },
     "metadata": {
      "needs_background": "light"
     },
     "output_type": "display_data"
    },
    {
     "data": {
      "image/png": "[encoded data removed]",
      "text/plain": [
       "<Figure size 432x288 with 1 Axes>"
      ]
     },
     "metadata": {
      "needs_background": "light"
     },
     "output_type": "display_data"
    },
    {
     "data": {
      "image/png": "[encoded data removed]",
      "text/plain": [
       "<Figure size 432x288 with 1 Axes>"
      ]
     },
     "metadata": {
      "needs_background": "light"
     },
     "output_type": "display_data"
    },
    {
     "data": {
      "image/png": "[encoded data removed]",
      "text/plain": [
       "<Figure size 432x288 with 1 Axes>"
      ]
     },
     "metadata": {
      "needs_background": "light"
     },
     "output_type": "display_data"
    },
    {
     "data": {
      "image/png": "[encoded data removed]",
      "text/plain": [
       "<Figure size 432x288 with 1 Axes>"
      ]
     },
     "metadata": {
      "needs_background": "light"
     },
     "output_type": "display_data"
    },
    {
     "data": {
      "image/png": "[encoded data removed]",
      "text/plain": [
       "<Figure size 432x288 with 1 Axes>"
      ]
     },
     "metadata": {
      "needs_background": "light"
     },
     "output_type": "display_data"
    },
    {
     "data": {
      "image/png": "[encoded data removed]",
      "text/plain": [
       "<Figure size 432x288 with 1 Axes>"
      ]
     },
     "metadata": {
      "needs_background": "light"
     },
     "output_type": "display_data"
    },
    {
     "data": {
      "image/png": "[encoded data removed]",
      "text/plain": [
       "<Figure size 432x288 with 1 Axes>"
      ]
     },
     "metadata": {
      "needs_background": "light"
     },
     "output_type": "display_data"
    },
    {
     "data": {
      "image/png": "[encoded data removed]",
      "text/plain": [
       "<Figure size 432x288 with 1 Axes>"
      ]
     },
     "metadata": {
      "needs_background": "light"
     },
     "output_type": "display_data"
    },
    {
     "data": {
      "image/png": "[encoded data removed]",
      "text/plain": [
       "<Figure size 432x288 with 1 Axes>"
      ]
     },
     "metadata": {
      "needs_background": "light"
     },
     "output_type": "display_data"
    }
   ],
   "source": [
    "for x in range(1000):\n",
    "    test_image = test_images[x,:].reshape(1,784)\n",
    "    predicted_cat = model.predict(test_image).argmax()\n",
    "    label = test_labels[x].argmax()\n",
    "    if (predicted_cat != label):\n",
    "        plt.title('Prediction: %d Label: %d' % (predicted_cat, label))\n",
    "        plt.imshow(test_image.reshape([28,28]), cmap=plt.get_cmap('gray_r'))\n",
    "        plt.show()"
   ]
  },
  {
   "cell_type": "markdown",
   "metadata": {},
   "source": [
    "You can see most of the ones it's having trouble with, are images a human would have trouble as well!"
   ]
  },
  {
   "cell_type": "markdown",
   "metadata": {},
   "source": [
    "---\n",
    "\n",
    "We can see if we can improve the results by running more epochs, trying different optimizers.\n",
    "\n",
    "We can also try adding additional layers and use dropout at each step to prevent overfitting."
   ]
  },
  {
   "cell_type": "code",
   "execution_count": 26,
   "metadata": {
    "scrolled": true
   },
   "outputs": [
    {
     "name": "stdout",
     "output_type": "stream",
     "text": [
      "Epoch 1/10\n",
      "600/600 - 2s - loss: 0.2380 - accuracy: 0.9281 - val_loss: 0.1105 - val_accuracy: 0.9650\n",
      "Epoch 2/10\n",
      "600/600 - 1s - loss: 0.1018 - accuracy: 0.9689 - val_loss: 0.0826 - val_accuracy: 0.9754\n",
      "Epoch 3/10\n",
      "600/600 - 1s - loss: 0.0768 - accuracy: 0.9769 - val_loss: 0.0770 - val_accuracy: 0.9783\n",
      "Epoch 4/10\n",
      "600/600 - 2s - loss: 0.0629 - accuracy: 0.9815 - val_loss: 0.0844 - val_accuracy: 0.9773\n",
      "Epoch 5/10\n",
      "600/600 - 1s - loss: 0.0537 - accuracy: 0.9848 - val_loss: 0.0784 - val_accuracy: 0.9797\n",
      "Epoch 6/10\n",
      "600/600 - 2s - loss: 0.0489 - accuracy: 0.9860 - val_loss: 0.0738 - val_accuracy: 0.9814\n",
      "Epoch 7/10\n",
      "600/600 - 2s - loss: 0.0411 - accuracy: 0.9884 - val_loss: 0.0896 - val_accuracy: 0.9806\n",
      "Epoch 8/10\n",
      "600/600 - 1s - loss: 0.0403 - accuracy: 0.9887 - val_loss: 0.0913 - val_accuracy: 0.9811\n",
      "Epoch 9/10\n",
      "600/600 - 2s - loss: 0.0361 - accuracy: 0.9896 - val_loss: 0.0841 - val_accuracy: 0.9842\n",
      "Epoch 10/10\n",
      "600/600 - 2s - loss: 0.0330 - accuracy: 0.9905 - val_loss: 0.1196 - val_accuracy: 0.9782\n"
     ]
    }
   ],
   "source": [
    "model2 = Sequential()\n",
    "model2.add(Dense(512, activation='relu', input_shape=(784,)))\n",
    "model2.add(Dropout(0.2))\n",
    "model2.add(Dense(512, activation='relu'))\n",
    "model2.add(Dropout(0.2))\n",
    "model2.add(Dense(10, activation='softmax'))\n",
    "\n",
    "model2.compile(loss='categorical_crossentropy',\n",
    "              optimizer=RMSprop(),\n",
    "              metrics=['accuracy'])\n",
    "\n",
    "history = model2.fit(train_images, train_labels,\n",
    "                    batch_size=100,\n",
    "                    epochs=10,\n",
    "                    verbose=2,\n",
    "                    validation_data=(test_images, test_labels))"
   ]
  },
  {
   "cell_type": "code",
   "execution_count": 27,
   "metadata": {},
   "outputs": [
    {
     "name": "stdout",
     "output_type": "stream",
     "text": [
      "Test loss: 0.11958785355091095\n",
      "Test accuracy: 0.9782000184059143\n"
     ]
    }
   ],
   "source": [
    "score = model2.evaluate(test_images, test_labels, verbose=0)\n",
    "print('Test loss:', score[0])\n",
    "print('Test accuracy:', score[1])"
   ]
  },
  {
   "cell_type": "code",
   "execution_count": 24,
   "metadata": {
    "scrolled": true
   },
   "outputs": [
    {
     "name": "stdout",
     "output_type": "stream",
     "text": [
      "Epoch 1/10\n",
      "600/600 - 1s - loss: 0.2399 - accuracy: 0.9270 - val_loss: 0.1065 - val_accuracy: 0.9661\n",
      "Epoch 2/10\n",
      "600/600 - 1s - loss: 0.0981 - accuracy: 0.9689 - val_loss: 0.0842 - val_accuracy: 0.9722\n",
      "Epoch 3/10\n",
      "600/600 - 1s - loss: 0.0742 - accuracy: 0.9769 - val_loss: 0.0678 - val_accuracy: 0.9793\n",
      "Epoch 4/10\n",
      "600/600 - 1s - loss: 0.0561 - accuracy: 0.9819 - val_loss: 0.0634 - val_accuracy: 0.9808\n",
      "Epoch 5/10\n",
      "600/600 - 1s - loss: 0.0462 - accuracy: 0.9847 - val_loss: 0.0727 - val_accuracy: 0.9790\n",
      "Epoch 6/10\n",
      "600/600 - 1s - loss: 0.0395 - accuracy: 0.9873 - val_loss: 0.0671 - val_accuracy: 0.9803\n",
      "Epoch 7/10\n",
      "600/600 - 1s - loss: 0.0354 - accuracy: 0.9879 - val_loss: 0.0731 - val_accuracy: 0.9790\n",
      "Epoch 8/10\n",
      "600/600 - 1s - loss: 0.0319 - accuracy: 0.9900 - val_loss: 0.0619 - val_accuracy: 0.9827\n",
      "Epoch 9/10\n",
      "600/600 - 1s - loss: 0.0313 - accuracy: 0.9894 - val_loss: 0.0696 - val_accuracy: 0.9812\n",
      "Epoch 10/10\n",
      "600/600 - 1s - loss: 0.0263 - accuracy: 0.9913 - val_loss: 0.0803 - val_accuracy: 0.9782\n"
     ]
    }
   ],
   "source": [
    "from tensorflow.keras.optimizers import Adam\n",
    "\n",
    "model3 = Sequential()\n",
    "model3.add(Dense(512, activation='relu', input_shape=(784,)))\n",
    "model3.add(Dropout(0.2))\n",
    "model3.add(Dense(512, activation='relu'))\n",
    "model3.add(Dropout(0.2))\n",
    "model3.add(Dense(10, activation='softmax'))\n",
    "\n",
    "model3.compile(loss='categorical_crossentropy',\n",
    "              optimizer=Adam(),\n",
    "              metrics=['accuracy'])\n",
    "\n",
    "history = model3.fit(train_images, train_labels,\n",
    "                    batch_size=100,\n",
    "                    epochs=10,\n",
    "                    verbose=2,\n",
    "                    validation_data=(test_images, test_labels))"
   ]
  },
  {
   "cell_type": "code",
   "execution_count": 25,
   "metadata": {},
   "outputs": [
    {
     "name": "stdout",
     "output_type": "stream",
     "text": [
      "Test loss: 0.08029841631650925\n",
      "Test accuracy: 0.9782000184059143\n"
     ]
    }
   ],
   "source": [
    "score = model3.evaluate(test_images, test_labels, verbose=0)\n",
    "print('Test loss:', score[0])\n",
    "print('Test accuracy:', score[1])"
   ]
  },
  {
   "cell_type": "code",
   "execution_count": 21,
   "metadata": {
    "scrolled": true
   },
   "outputs": [
    {
     "name": "stdout",
     "output_type": "stream",
     "text": [
      "Epoch 1/100\n",
      "600/600 - 1s - loss: 0.2412 - accuracy: 0.9263 - val_loss: 0.1055 - val_accuracy: 0.9669\n",
      "Epoch 2/100\n",
      "600/600 - 1s - loss: 0.1003 - accuracy: 0.9692 - val_loss: 0.0897 - val_accuracy: 0.9724\n",
      "Epoch 3/100\n",
      "600/600 - 1s - loss: 0.0723 - accuracy: 0.9771 - val_loss: 0.0813 - val_accuracy: 0.9757\n",
      "Epoch 4/100\n",
      "600/600 - 1s - loss: 0.0572 - accuracy: 0.9817 - val_loss: 0.0768 - val_accuracy: 0.9750\n",
      "Epoch 5/100\n",
      "600/600 - 1s - loss: 0.0459 - accuracy: 0.9857 - val_loss: 0.0723 - val_accuracy: 0.9803\n",
      "Epoch 6/100\n",
      "600/600 - 1s - loss: 0.0413 - accuracy: 0.9865 - val_loss: 0.0722 - val_accuracy: 0.9788\n",
      "Epoch 7/100\n",
      "600/600 - 1s - loss: 0.0367 - accuracy: 0.9879 - val_loss: 0.0611 - val_accuracy: 0.9829\n",
      "Epoch 8/100\n",
      "600/600 - 1s - loss: 0.0308 - accuracy: 0.9901 - val_loss: 0.0686 - val_accuracy: 0.9809\n",
      "Epoch 9/100\n",
      "600/600 - 1s - loss: 0.0289 - accuracy: 0.9905 - val_loss: 0.0813 - val_accuracy: 0.9772\n",
      "Epoch 10/100\n",
      "600/600 - 1s - loss: 0.0257 - accuracy: 0.9914 - val_loss: 0.0769 - val_accuracy: 0.9806\n",
      "Epoch 11/100\n",
      "600/600 - 1s - loss: 0.0254 - accuracy: 0.9921 - val_loss: 0.0713 - val_accuracy: 0.9822\n",
      "Epoch 12/100\n",
      "600/600 - 1s - loss: 0.0231 - accuracy: 0.9923 - val_loss: 0.0698 - val_accuracy: 0.9822\n",
      "Epoch 13/100\n",
      "600/600 - 1s - loss: 0.0193 - accuracy: 0.9934 - val_loss: 0.0677 - val_accuracy: 0.9844\n",
      "Epoch 14/100\n",
      "600/600 - 1s - loss: 0.0232 - accuracy: 0.9929 - val_loss: 0.0727 - val_accuracy: 0.9834\n",
      "Epoch 15/100\n",
      "600/600 - 1s - loss: 0.0174 - accuracy: 0.9944 - val_loss: 0.0898 - val_accuracy: 0.9819\n",
      "Epoch 16/100\n",
      "600/600 - 1s - loss: 0.0202 - accuracy: 0.9934 - val_loss: 0.0744 - val_accuracy: 0.9837\n",
      "Epoch 17/100\n",
      "600/600 - 1s - loss: 0.0183 - accuracy: 0.9941 - val_loss: 0.0846 - val_accuracy: 0.9829\n",
      "Epoch 18/100\n",
      "600/600 - 1s - loss: 0.0168 - accuracy: 0.9946 - val_loss: 0.0785 - val_accuracy: 0.9838\n",
      "Epoch 19/100\n",
      "600/600 - 1s - loss: 0.0181 - accuracy: 0.9941 - val_loss: 0.0785 - val_accuracy: 0.9822\n",
      "Epoch 20/100\n",
      "600/600 - 1s - loss: 0.0158 - accuracy: 0.9949 - val_loss: 0.0759 - val_accuracy: 0.9843\n",
      "Epoch 21/100\n",
      "600/600 - 1s - loss: 0.0153 - accuracy: 0.9954 - val_loss: 0.0886 - val_accuracy: 0.9829\n",
      "Epoch 22/100\n",
      "600/600 - 1s - loss: 0.0161 - accuracy: 0.9949 - val_loss: 0.0869 - val_accuracy: 0.9826\n",
      "Epoch 23/100\n",
      "600/600 - 1s - loss: 0.0154 - accuracy: 0.9950 - val_loss: 0.0947 - val_accuracy: 0.9820\n",
      "Epoch 24/100\n",
      "600/600 - 1s - loss: 0.0122 - accuracy: 0.9959 - val_loss: 0.0914 - val_accuracy: 0.9828\n",
      "Epoch 25/100\n",
      "600/600 - 1s - loss: 0.0140 - accuracy: 0.9957 - val_loss: 0.0890 - val_accuracy: 0.9835\n",
      "Epoch 26/100\n",
      "600/600 - 1s - loss: 0.0148 - accuracy: 0.9953 - val_loss: 0.0886 - val_accuracy: 0.9831\n",
      "Epoch 27/100\n",
      "600/600 - 1s - loss: 0.0144 - accuracy: 0.9959 - val_loss: 0.0988 - val_accuracy: 0.9834\n"
     ]
    }
   ],
   "source": [
    "from tensorflow.keras.optimizers import Adam\n",
    "from tensorflow.keras.callbacks import EarlyStopping\n",
    "\n",
    "earlystopping = EarlyStopping(monitor='loss', patience=3)\n",
    "\n",
    "model4 = Sequential()\n",
    "model4.add(Dense(512, activation='relu', input_shape=(784,)))\n",
    "model4.add(Dropout(0.2))\n",
    "model4.add(Dense(512, activation='relu'))\n",
    "model4.add(Dropout(0.2))\n",
    "model4.add(Dense(10, activation='softmax'))\n",
    "\n",
    "model4.compile(loss='categorical_crossentropy',\n",
    "              optimizer=Adam(),\n",
    "              metrics=['accuracy'])\n",
    "\n",
    "history = model4.fit(train_images, train_labels,\n",
    "                    batch_size=100,\n",
    "                    epochs=100,\n",
    "                    verbose=2,\n",
    "                    callbacks=[earlystopping],\n",
    "                    validation_data=(test_images, test_labels))"
   ]
  },
  {
   "cell_type": "code",
   "execution_count": 23,
   "metadata": {},
   "outputs": [
    {
     "name": "stdout",
     "output_type": "stream",
     "text": [
      "Test loss: 0.09880384057760239\n",
      "Test accuracy: 0.9833999872207642\n"
     ]
    }
   ],
   "source": [
    "score = model4.evaluate(test_images, test_labels, verbose=0)\n",
    "print('Test loss:', score[0])\n",
    "print('Test accuracy:', score[1])"
   ]
  },
  {
   "cell_type": "code",
   "execution_count": null,
   "metadata": {},
   "outputs": [],
   "source": []
  }
 ],
 "metadata": {
  "kernelspec": {
   "display_name": "Python 3",
   "language": "python",
   "name": "python3"
  },
  "language_info": {
   "codemirror_mode": {
    "name": "ipython",
    "version": 3
   },
   "file_extension": ".py",
   "mimetype": "text/x-python",
   "name": "python",
   "nbconvert_exporter": "python",
   "pygments_lexer": "ipython3",
   "version": "3.8.5"
  }
 },
 "nbformat": 4,
 "nbformat_minor": 4
}
